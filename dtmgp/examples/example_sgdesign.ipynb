{
 "cells": [
  {
   "cell_type": "code",
   "execution_count": 1,
   "metadata": {},
   "outputs": [],
   "source": [
    "import os\n",
    "import sys\n",
    "from pathlib import Path # if you haven't already done so\n",
    "file = Path(os.path.dirname(os.path.abspath(\"__file__\"))).resolve()\n",
    "parent, root = file.parent, file.parents[1]\n",
    "sys.path.append(str(root))\n",
    "\n",
    "import torch\n",
    "from dtmgp.utils.sparse_grid.sgdesign import SparseGridDesign\n",
    "from dtmgp.utils.sparse_grid.hyperbolic_cross import HyperbolicCrossDesign"
   ]
  },
  {
   "cell_type": "code",
   "execution_count": 2,
   "metadata": {},
   "outputs": [
    {
     "name": "stdout",
     "output_type": "stream",
     "text": [
      "tensor([0.5000, 0.2500, 0.7500, 0.1250, 0.3750, 0.6250, 0.8750])\n",
      "tensor([  -inf,   -inf, 0.5000,   -inf, 0.2500, 0.5000, 0.7500])\n",
      "tensor([   inf, 0.5000,    inf, 0.2500, 0.5000, 0.7500,    inf])\n",
      "tensor([3, 1, 5, 0, 2, 4, 6])\n"
     ]
    }
   ],
   "source": [
    "# test Hyperbolic Cross Design\n",
    "design_class = HyperbolicCrossDesign\n",
    "deg = 3\n",
    "input_bd = [0,1]\n",
    "\n",
    "print( design_class(dyadic_sort=True, return_neighbors=True)(deg=deg, input_bd=input_bd).points )\n",
    "print( design_class(dyadic_sort=True, return_neighbors=True)(deg=deg, input_bd=input_bd).lefts)\n",
    "print( design_class(dyadic_sort=True, return_neighbors=True)(deg=deg, input_bd=input_bd).rights )\n",
    "print( design_class(dyadic_sort=True, return_neighbors=True)(deg=deg, input_bd=input_bd).indices_sort )"
   ]
  },
  {
   "cell_type": "code",
   "execution_count": 3,
   "metadata": {},
   "outputs": [],
   "source": [
    "# initial setting\n",
    "d = 2\n",
    "eta = 4\n",
    "input_bd = [[0,1]]*d # None\n",
    "design_class = HyperbolicCrossDesign\n",
    "\n",
    "# generate sparse grid design\n",
    "sg = SparseGridDesign(d, eta, input_bd=input_bd, design_class=design_class).gen_sg(dyadic_sort=True, return_neighbors=True)\n",
    "x_tot = sg.pts_tot\n",
    "id_prt = sg.id_prt # use self.tot_pts[ id_x_prt[t_sum, prt], : ] to extract grid points in each smolyak iter\n",
    "pts_prt = sg.pts_prt # use self.pts_prt[t_sum, prt] to extract a d-dimensional list, each entry is one-dim points forming the sgdesign\n",
    "pts_prt_set = sg.pts_prt_set\n",
    "\n",
    "pts_set = sg.pts_set\n",
    "n_pts = sg.n_pts\n",
    "\n",
    "design_str_prt = sg.design_str_prt\n",
    "\n",
    "\n",
    "indices_prt = sg.indices_prt\n",
    "indices_prt_set = sg.indices_prt_set\n",
    "\n",
    "indices_tot = sg.indices_tot\n",
    "indices_set = sg.indices_set"
   ]
  },
  {
   "cell_type": "code",
   "execution_count": 4,
   "metadata": {},
   "outputs": [
    {
     "data": {
      "text/plain": [
       "tensor([[0.5000, 0.5000],\n",
       "        [0.5000, 0.2500],\n",
       "        [0.5000, 0.7500],\n",
       "        [0.5000, 0.1250],\n",
       "        [0.5000, 0.3750],\n",
       "        [0.5000, 0.6250],\n",
       "        [0.5000, 0.8750],\n",
       "        [0.2500, 0.5000],\n",
       "        [0.2500, 0.2500],\n",
       "        [0.2500, 0.7500],\n",
       "        [0.7500, 0.5000],\n",
       "        [0.7500, 0.2500],\n",
       "        [0.7500, 0.7500],\n",
       "        [0.1250, 0.5000],\n",
       "        [0.3750, 0.5000],\n",
       "        [0.6250, 0.5000],\n",
       "        [0.8750, 0.5000]], dtype=torch.float64)"
      ]
     },
     "execution_count": 4,
     "metadata": {},
     "output_type": "execute_result"
    }
   ],
   "source": [
    "pts_set"
   ]
  },
  {
   "cell_type": "code",
   "execution_count": 5,
   "metadata": {},
   "outputs": [
    {
     "data": {
      "text/plain": [
       "tensor([0.5000, 0.2500, 0.7500, 0.1250, 0.3750, 0.6250, 0.8750])"
      ]
     },
     "execution_count": 5,
     "metadata": {},
     "output_type": "execute_result"
    }
   ],
   "source": [
    "design_str_prt[eta,2][0].points"
   ]
  },
  {
   "cell_type": "code",
   "execution_count": 6,
   "metadata": {},
   "outputs": [
    {
     "data": {
      "text/plain": [
       "[tensor([0.5000, 0.2500, 0.7500, 0.1250, 0.3750, 0.6250, 0.8750]),\n",
       " tensor([0.5000])]"
      ]
     },
     "execution_count": 6,
     "metadata": {},
     "output_type": "execute_result"
    }
   ],
   "source": [
    "pts_prt[eta,2]"
   ]
  },
  {
   "cell_type": "code",
   "execution_count": 7,
   "metadata": {},
   "outputs": [
    {
     "data": {
      "text/plain": [
       "[tensor([3, 1, 5, 0, 2, 4, 6]), tensor([3])]"
      ]
     },
     "execution_count": 7,
     "metadata": {},
     "output_type": "execute_result"
    }
   ],
   "source": [
    "indices_prt[eta,2]"
   ]
  },
  {
   "cell_type": "code",
   "execution_count": 8,
   "metadata": {},
   "outputs": [
    {
     "name": "stdout",
     "output_type": "stream",
     "text": [
      "tensor([[3, 3],\n",
      "        [3, 1],\n",
      "        [3, 5],\n",
      "        [3, 0],\n",
      "        [3, 2],\n",
      "        [3, 4],\n",
      "        [3, 6],\n",
      "        [1, 3],\n",
      "        [1, 1],\n",
      "        [1, 5],\n",
      "        [5, 3],\n",
      "        [5, 1],\n",
      "        [5, 5],\n",
      "        [0, 3],\n",
      "        [2, 3],\n",
      "        [4, 3],\n",
      "        [6, 3]])\n",
      "tensor([[3, 3],\n",
      "        [1, 3],\n",
      "        [5, 3]])\n"
     ]
    }
   ],
   "source": [
    "print(indices_set)\n",
    "\n",
    "indices_select = indices_prt_set[3,1]\n",
    "print(indices_select)"
   ]
  },
  {
   "cell_type": "code",
   "execution_count": 9,
   "metadata": {},
   "outputs": [
    {
     "data": {
      "text/plain": [
       "tensor([ 0,  7, 10])"
      ]
     },
     "execution_count": 9,
     "metadata": {},
     "output_type": "execute_result"
    }
   ],
   "source": [
    "list_full = [tuple(l) for l in indices_set.tolist()] # [n_u, d] size list of tuple\n",
    "list_select = [tuple(l) for l in indices_select.tolist()] # [n_arrow, d] size list of tuple\n",
    "\n",
    "index_dict = dict((value, idx) for idx,value in enumerate(list_full))\n",
    "index_select = torch.tensor( [index_dict[x] for x in list_select] )\n",
    "index_select"
   ]
  },
  {
   "cell_type": "code",
   "execution_count": 10,
   "metadata": {},
   "outputs": [
    {
     "name": "stdout",
     "output_type": "stream",
     "text": [
      "tensor([[-0.4268, -0.6943,  1.1826, -0.2031, -1.6386],\n",
      "        [-0.0306,  0.6142,  1.0506,  0.5527,  0.1001],\n",
      "        [-0.0238,  0.2904, -0.6883,  1.5236,  0.1345],\n",
      "        [-0.6331,  0.3622, -0.6110, -1.0555, -1.7768],\n",
      "        [-1.0859,  0.3073,  0.6711,  0.4672, -1.1183]], dtype=torch.float64)\n",
      "tensor(indices=tensor([[0, 1, 2, 0],\n",
      "                       [1, 1, 0, 2]]),\n",
      "       values=tensor([1., 2., 3., 4.]),\n",
      "       size=(5, 5), nnz=4, dtype=torch.float64, layout=torch.sparse_coo)\n",
      "tensor([[-0.1259,  1.7756, -1.7026,  6.6472,  0.6381],\n",
      "        [-0.0612,  1.2283,  2.1011,  1.1054,  0.2001],\n",
      "        [-1.2805, -2.0829,  3.5477, -0.6094, -4.9159],\n",
      "        [ 0.0000,  0.0000,  0.0000,  0.0000,  0.0000],\n",
      "        [ 0.0000,  0.0000,  0.0000,  0.0000,  0.0000]], dtype=torch.float64)\n"
     ]
    }
   ],
   "source": [
    "i = torch.tensor([[0, 1, 2, 0],\n",
    "                   [1, 1, 0, 2]])\n",
    "v = torch.tensor([1, 2, 3, 4], dtype=float)\n",
    "sp_test = torch.sparse_coo_tensor(i, v, [5, 5])\n",
    "a = torch.randn((5,5), dtype=float)\n",
    "print(a)\n",
    "print(sp_test)\n",
    "print(sp_test @ a)"
   ]
  },
  {
   "cell_type": "code",
   "execution_count": 11,
   "metadata": {},
   "outputs": [
    {
     "name": "stdout",
     "output_type": "stream",
     "text": [
      "tensor([[0, 1],\n",
      "        [1, 1],\n",
      "        [2, 0],\n",
      "        [0, 2]])\n",
      "tensor([ 0,  7, 10])\n"
     ]
    }
   ],
   "source": [
    "sp_id = sp_test._indices().T\n",
    "print(sp_id)\n",
    "print(index_select)"
   ]
  },
  {
   "cell_type": "code",
   "execution_count": 12,
   "metadata": {},
   "outputs": [
    {
     "data": {
      "text/plain": [
       "tensor([[ 0,  7],\n",
       "        [ 7,  7],\n",
       "        [10,  0],\n",
       "        [ 0, 10]])"
      ]
     },
     "execution_count": 12,
     "metadata": {},
     "output_type": "execute_result"
    }
   ],
   "source": [
    "index_select[sp_id]"
   ]
  },
  {
   "cell_type": "code",
   "execution_count": 13,
   "metadata": {},
   "outputs": [
    {
     "data": {
      "text/plain": [
       "tensor(indices=tensor([[ 0,  7, 10,  0],\n",
       "                       [ 7,  7,  0, 10]]),\n",
       "       values=tensor([1., 2., 3., 4.]),\n",
       "       size=(17, 17), nnz=4, dtype=torch.float64, layout=torch.sparse_coo)"
      ]
     },
     "execution_count": 13,
     "metadata": {},
     "output_type": "execute_result"
    }
   ],
   "source": [
    "sp_test_new = torch.sparse_coo_tensor(index_select[sp_test._indices()], sp_test._values(), [17, 17])\n",
    "sp_test_new"
   ]
  },
  {
   "cell_type": "code",
   "execution_count": null,
   "metadata": {},
   "outputs": [],
   "source": []
  }
 ],
 "metadata": {
  "kernelspec": {
   "display_name": "env_sparse-dgp",
   "language": "python",
   "name": "python3"
  },
  "language_info": {
   "codemirror_mode": {
    "name": "ipython",
    "version": 3
   },
   "file_extension": ".py",
   "mimetype": "text/x-python",
   "name": "python",
   "nbconvert_exporter": "python",
   "pygments_lexer": "ipython3",
   "version": "3.9.18"
  }
 },
 "nbformat": 4,
 "nbformat_minor": 2
}
