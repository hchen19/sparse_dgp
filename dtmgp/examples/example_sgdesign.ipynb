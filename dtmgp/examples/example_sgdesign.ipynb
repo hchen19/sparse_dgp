{
 "cells": [
  {
   "cell_type": "code",
   "execution_count": 1,
   "metadata": {},
   "outputs": [],
   "source": [
    "import os\n",
    "import sys\n",
    "from pathlib import Path # if you haven't already done so\n",
    "file = Path(os.path.dirname(os.path.abspath(\"__file__\"))).resolve()\n",
    "parent, root = file.parent, file.parents[1]\n",
    "sys.path.append(str(root))\n",
    "\n",
    "import torch\n",
    "from dtmgp.utils.sparse_grid.sgdesign import SparseGridDesign\n",
    "from dtmgp.utils.sparse_grid.hyperbolic_cross import HyperbolicCrossDesign"
   ]
  },
  {
   "cell_type": "code",
   "execution_count": 2,
   "metadata": {},
   "outputs": [
    {
     "name": "stdout",
     "output_type": "stream",
     "text": [
      "tensor([0.5000, 0.2500, 0.7500, 0.1250, 0.3750, 0.6250, 0.8750])\n",
      "tensor([3, 1, 5, 0, 2, 4, 6])\n",
      "(tensor([0.1250, 0.2500, 0.3750, 0.5000, 0.6250, 0.7500, 0.8750]), tensor([3, 1, 4, 0, 5, 2, 6]))\n"
     ]
    }
   ],
   "source": [
    "# test Hyperbolic Cross Design\n",
    "design_class = HyperbolicCrossDesign\n",
    "print( design_class(dyadic_sort=True, indices_sort=True)(deg=3).points )\n",
    "print( design_class(dyadic_sort=True, indices_sort=True)(deg=3).indices_sort )\n",
    "print( design_class(dyadic_sort=True, indices_sort=True)(deg=3).sorted_vals_indices )"
   ]
  },
  {
   "cell_type": "code",
   "execution_count": 3,
   "metadata": {},
   "outputs": [],
   "source": [
    "# initial setting\n",
    "d = 2\n",
    "eta = 4\n",
    "input_bd = [[0,1]]*d # None\n",
    "design_class = HyperbolicCrossDesign\n",
    "dyadic_sort = True\n",
    "indices_sort = True\n",
    "\n",
    "# generate sparse grid design\n",
    "sg = SparseGridDesign(d, eta, input_bd=input_bd, design_class=design_class).gen_sg(dyadic_sort=dyadic_sort, indices_sort=indices_sort)\n",
    "x_tot = sg.pts_tot\n",
    "id_prt = sg.id_prt # use self.tot_pts[ id_x_prt[t_sum, prt], : ] to extract grid points in each smolyak iter\n",
    "pts_prt = sg.pts_prt # use self.pts_prt[t_sum, prt] to extract a d-dimensional list, each entry is one-dim points forming the sgdesign\n",
    "pts_prt_set = sg.pts_prt_set\n",
    "\n",
    "pts_set = sg.pts_set\n",
    "n_pts = sg.n_pts\n",
    "\n",
    "design_str_prt = sg.design_str_prt\n",
    "\n",
    "\n",
    "indices_prt = sg.indices_prt\n",
    "indices_prt_set = sg.indices_prt_set\n",
    "\n",
    "indices_tot = sg.indices_tot\n",
    "indices_set = sg.indices_set"
   ]
  },
  {
   "cell_type": "code",
   "execution_count": 54,
   "metadata": {},
   "outputs": [
    {
     "data": {
      "text/plain": [
       "tensor([0.5000])"
      ]
     },
     "execution_count": 54,
     "metadata": {},
     "output_type": "execute_result"
    }
   ],
   "source": [
    "design_str_prt[eta,2][1].points"
   ]
  },
  {
   "cell_type": "code",
   "execution_count": 10,
   "metadata": {},
   "outputs": [
    {
     "data": {
      "text/plain": [
       "[tensor([0.5000, 0.2500, 0.7500, 0.1250, 0.3750, 0.6250, 0.8750]),\n",
       " tensor([0.5000])]"
      ]
     },
     "execution_count": 10,
     "metadata": {},
     "output_type": "execute_result"
    }
   ],
   "source": [
    "pts_prt[eta,2]"
   ]
  },
  {
   "cell_type": "code",
   "execution_count": 11,
   "metadata": {},
   "outputs": [
    {
     "data": {
      "text/plain": [
       "[tensor([3, 1, 5, 0, 2, 4, 6]), tensor([3])]"
      ]
     },
     "execution_count": 11,
     "metadata": {},
     "output_type": "execute_result"
    }
   ],
   "source": [
    "indices_prt[eta,2]"
   ]
  },
  {
   "cell_type": "code",
   "execution_count": 7,
   "metadata": {},
   "outputs": [
    {
     "name": "stdout",
     "output_type": "stream",
     "text": [
      "tensor([[0, 3],\n",
      "        [1, 1],\n",
      "        [1, 3],\n",
      "        [1, 5],\n",
      "        [2, 3],\n",
      "        [3, 0],\n",
      "        [3, 1],\n",
      "        [3, 2],\n",
      "        [3, 3],\n",
      "        [3, 4],\n",
      "        [3, 5],\n",
      "        [3, 6],\n",
      "        [4, 3],\n",
      "        [5, 1],\n",
      "        [5, 3],\n",
      "        [5, 5],\n",
      "        [6, 3]])\n",
      "tensor([[3, 3],\n",
      "        [1, 3],\n",
      "        [5, 3]])\n"
     ]
    }
   ],
   "source": [
    "print(indices_set)\n",
    "\n",
    "indices_select = indices_prt_set[3,1]\n",
    "print(indices_select)"
   ]
  },
  {
   "cell_type": "code",
   "execution_count": 40,
   "metadata": {},
   "outputs": [
    {
     "data": {
      "text/plain": [
       "tensor([ 8,  2, 14])"
      ]
     },
     "execution_count": 40,
     "metadata": {},
     "output_type": "execute_result"
    }
   ],
   "source": [
    "list_full = [tuple(l) for l in indices_set.tolist()] # [n_u, d] size list of tuple\n",
    "list_select = [tuple(l) for l in indices_select.tolist()] # [n_arrow, d] size list of tuple\n",
    "\n",
    "index_dict = dict((value, idx) for idx,value in enumerate(list_full))\n",
    "index_select = torch.tensor( [index_dict[x] for x in list_select] )\n",
    "index_select"
   ]
  },
  {
   "cell_type": "code",
   "execution_count": 18,
   "metadata": {},
   "outputs": [
    {
     "data": {
      "text/plain": [
       "tensor([[0., 3., 0.],\n",
       "        [4., 0., 0.],\n",
       "        [0., 0., 5.]], dtype=torch.float64)"
      ]
     },
     "execution_count": 18,
     "metadata": {},
     "output_type": "execute_result"
    }
   ],
   "source": [
    "i = torch.tensor([[0, 1, 2],\n",
    "                   [1, 0, 2]])\n",
    "v = torch.tensor([3, 4, 5], dtype=float)\n",
    "sp_test = torch.sparse_coo_tensor(i, v, [3, 3])\n",
    "sp_test.to_dense()"
   ]
  },
  {
   "cell_type": "code",
   "execution_count": 41,
   "metadata": {},
   "outputs": [
    {
     "name": "stdout",
     "output_type": "stream",
     "text": [
      "tensor([[0, 1],\n",
      "        [1, 0],\n",
      "        [2, 2]])\n",
      "tensor([ 8,  2, 14])\n"
     ]
    }
   ],
   "source": [
    "sp_id = sp_test._indices().T\n",
    "print(sp_id)\n",
    "print(index_select)"
   ]
  },
  {
   "cell_type": "code",
   "execution_count": 46,
   "metadata": {},
   "outputs": [
    {
     "data": {
      "text/plain": [
       "tensor([[ 8,  2],\n",
       "        [ 2,  8],\n",
       "        [14, 14]])"
      ]
     },
     "execution_count": 46,
     "metadata": {},
     "output_type": "execute_result"
    }
   ],
   "source": [
    "index_select[sp_id]"
   ]
  },
  {
   "cell_type": "code",
   "execution_count": 47,
   "metadata": {},
   "outputs": [
    {
     "data": {
      "text/plain": [
       "tensor([3., 4., 5.], dtype=torch.float64)"
      ]
     },
     "execution_count": 47,
     "metadata": {},
     "output_type": "execute_result"
    }
   ],
   "source": [
    "sp_test._values()"
   ]
  },
  {
   "cell_type": "code",
   "execution_count": 48,
   "metadata": {},
   "outputs": [],
   "source": [
    "sp_test_new = torch.sparse_coo_tensor(index_select[sp_test._indices()], sp_test._values(), [17, 17])"
   ]
  },
  {
   "cell_type": "code",
   "execution_count": 50,
   "metadata": {},
   "outputs": [
    {
     "data": {
      "text/plain": [
       "tensor(indices=tensor([[ 8,  2, 14],\n",
       "                       [ 2,  8, 14]]),\n",
       "       values=tensor([3., 4., 5.]),\n",
       "       size=(17, 17), nnz=3, dtype=torch.float64, layout=torch.sparse_coo)"
      ]
     },
     "execution_count": 50,
     "metadata": {},
     "output_type": "execute_result"
    }
   ],
   "source": [
    "sp_test_new"
   ]
  },
  {
   "cell_type": "code",
   "execution_count": null,
   "metadata": {},
   "outputs": [],
   "source": []
  }
 ],
 "metadata": {
  "kernelspec": {
   "display_name": "env_sparse-dgp",
   "language": "python",
   "name": "python3"
  },
  "language_info": {
   "codemirror_mode": {
    "name": "ipython",
    "version": 3
   },
   "file_extension": ".py",
   "mimetype": "text/x-python",
   "name": "python",
   "nbconvert_exporter": "python",
   "pygments_lexer": "ipython3",
   "version": "3.9.18"
  }
 },
 "nbformat": 4,
 "nbformat_minor": 2
}
