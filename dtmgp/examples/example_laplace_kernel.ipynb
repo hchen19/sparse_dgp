{
 "cells": [
  {
   "cell_type": "code",
   "execution_count": 1,
   "metadata": {},
   "outputs": [],
   "source": [
    "import os\n",
    "import sys\n",
    "from pathlib import Path # if you haven't already done so\n",
    "file = Path(os.path.dirname(os.path.abspath(\"__file__\"))).resolve()\n",
    "parent, root = file.parent, file.parents[1]\n",
    "sys.path.append(str(root))\n",
    "\n",
    "import torch\n",
    "from dtmgp.kernels.laplace_kernel import LaplaceProductKernel"
   ]
  },
  {
   "cell_type": "code",
   "execution_count": 8,
   "metadata": {},
   "outputs": [
    {
     "name": "stdout",
     "output_type": "stream",
     "text": [
      "tensor([[-0.0788],\n",
      "        [-0.6753]])\n",
      "tensor([[-0.5106],\n",
      "        [-0.6129],\n",
      "        [-0.1487],\n",
      "        [-1.3573]])\n"
     ]
    }
   ],
   "source": [
    "n = 2 # the size of x1\n",
    "m = 4 # the size of x2\n",
    "d = 1 # dimension of x1, x2\n",
    "x1 = torch.randn(n,d)\n",
    "x2 = torch.randn(m,d)\n",
    "lengthscale = torch.randn(d)\n",
    "print(x1)\n",
    "print(x2)"
   ]
  },
  {
   "cell_type": "code",
   "execution_count": 9,
   "metadata": {},
   "outputs": [
    {
     "data": {
      "text/plain": [
       "tensor([[0.6494, 0.5862, 0.9326, 0.2785],\n",
       "        [0.8482, 0.9395, 0.5906, 0.5056]])"
      ]
     },
     "execution_count": 9,
     "metadata": {},
     "output_type": "execute_result"
    }
   ],
   "source": [
    "kernel = LaplaceProductKernel()\n",
    "kernel(x1=x1,x2=x2)"
   ]
  },
  {
   "cell_type": "code",
   "execution_count": null,
   "metadata": {},
   "outputs": [],
   "source": []
  }
 ],
 "metadata": {
  "kernelspec": {
   "display_name": "env_sparse-dgp",
   "language": "python",
   "name": "python3"
  },
  "language_info": {
   "codemirror_mode": {
    "name": "ipython",
    "version": 3
   },
   "file_extension": ".py",
   "mimetype": "text/x-python",
   "name": "python",
   "nbconvert_exporter": "python",
   "pygments_lexer": "ipython3",
   "version": "3.9.18"
  }
 },
 "nbformat": 4,
 "nbformat_minor": 2
}
