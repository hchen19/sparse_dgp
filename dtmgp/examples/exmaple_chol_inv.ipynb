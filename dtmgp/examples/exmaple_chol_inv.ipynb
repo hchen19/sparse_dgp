{
 "cells": [
  {
   "cell_type": "code",
   "execution_count": 1,
   "metadata": {},
   "outputs": [],
   "source": [
    "import os\n",
    "import sys\n",
    "from pathlib import Path # if you haven't already done so\n",
    "file = Path(os.path.dirname(os.path.abspath(\"__file__\"))).resolve()\n",
    "parent, root = file.parent, file.parents[1]\n",
    "sys.path.append(str(root))\n",
    "\n",
    "import torch\n",
    "from dtmgp.utils.sparse_grid.hyperbolic_cross import HyperbolicCrossDesign\n",
    "from dtmgp.utils.sparse_grid.sgdesign import SparseGridDesign\n",
    "from dtmgp.kernels.laplace_kernel import LaplaceProductKernel\n",
    "from dtmgp.utils.sparse_weights.chol_inv import mk_chol_inv, tmk_chol_inv"
   ]
  },
  {
   "cell_type": "markdown",
   "metadata": {},
   "source": [
    "# Cholesky inverse in one dimension"
   ]
  },
  {
   "cell_type": "code",
   "execution_count": 27,
   "metadata": {},
   "outputs": [],
   "source": [
    "design_class = HyperbolicCrossDesign\n",
    "deg = 2\n",
    "input_bd = [0,1]\n",
    "\n",
    "dyadic_design = design_class(dyadic_sort=True, indices_sort=True)(deg=deg, input_bd=input_bd)\n",
    "markov_kernel = LaplaceProductKernel(lengthscale=None)\n",
    "\n",
    "Rinv = mk_chol_inv(dyadic_design, markov_kernel = markov_kernel, upper = True)"
   ]
  },
  {
   "cell_type": "code",
   "execution_count": 28,
   "metadata": {},
   "outputs": [
    {
     "name": "stdout",
     "output_type": "stream",
     "text": [
      "tensor([0.5000, 0.2500, 0.7500])\n",
      "(tensor([0.2500, 0.5000, 0.7500]), tensor([1, 0, 2]))\n",
      "tensor([1, 0, 2])\n"
     ]
    }
   ],
   "source": [
    "print(dyadic_design.points)\n",
    "print(dyadic_design.sorted_vals_indices)\n",
    "print(dyadic_design.indices_sort)"
   ]
  },
  {
   "cell_type": "code",
   "execution_count": 29,
   "metadata": {},
   "outputs": [
    {
     "name": "stdout",
     "output_type": "stream",
     "text": [
      "tensor([[ 1.0000, -1.2416, -1.2416],\n",
      "        [ 0.0000,  1.5942,  0.0000],\n",
      "        [ 0.0000,  0.0000,  1.5942]])\n"
     ]
    }
   ],
   "source": [
    "ker_input = dyadic_design.points\n",
    "K_true = markov_kernel(ker_input, ker_input)\n",
    "#print(K_true[:5,:5])\n",
    "\n",
    "R_true = torch.cholesky(K_true, upper=True)\n",
    "Rinv_true = torch.linalg.inv(R_true)\n",
    "print(Rinv_true[:5,:5])\n",
    "\n",
    "Kinv_true = torch.linalg.inv(K_true)\n",
    "#print(Kinv_true[:5,:5])"
   ]
  },
  {
   "cell_type": "code",
   "execution_count": 30,
   "metadata": {},
   "outputs": [
    {
     "name": "stdout",
     "output_type": "stream",
     "text": [
      "tensor([[ 2.0206, -1.2416, -1.2416],\n",
      "        [-0.9795,  1.5942,  0.0000],\n",
      "        [-0.9795,  0.0000,  1.5942]])\n"
     ]
    }
   ],
   "source": [
    "Rinv_dense = Rinv.to_dense()\n",
    "print(Rinv_dense[:15,:15])\n",
    "\n",
    "Kinv_sp = ( Rinv @ Rinv.T ).to_dense()\n",
    "#print(Kinv_sp[:5,:5])"
   ]
  },
  {
   "cell_type": "code",
   "execution_count": 12,
   "metadata": {},
   "outputs": [
    {
     "data": {
      "text/plain": [
       "tensor([[3.0830, 1.9793, 1.9793],\n",
       "        [1.9793, 0.9595, 0.9595],\n",
       "        [1.9793, 0.9595, 0.9595]])"
      ]
     },
     "execution_count": 12,
     "metadata": {},
     "output_type": "execute_result"
    }
   ],
   "source": [
    "abs(Kinv_sp - Kinv_true)"
   ]
  },
  {
   "cell_type": "code",
   "execution_count": 7,
   "metadata": {},
   "outputs": [
    {
     "data": {
      "text/plain": [
       "False"
      ]
     },
     "execution_count": 7,
     "metadata": {},
     "output_type": "execute_result"
    }
   ],
   "source": [
    "torch.allclose(Kinv_sp.to_dense(), Kinv_true)"
   ]
  },
  {
   "cell_type": "markdown",
   "metadata": {},
   "source": [
    "# Cholesky inverse for sparse grids"
   ]
  },
  {
   "cell_type": "code",
   "execution_count": 31,
   "metadata": {},
   "outputs": [
    {
     "data": {
      "text/plain": [
       "tensor([[0.2500, 0.5000],\n",
       "        [0.5000, 0.2500],\n",
       "        [0.5000, 0.5000],\n",
       "        [0.5000, 0.7500],\n",
       "        [0.7500, 0.5000]])"
      ]
     },
     "execution_count": 31,
     "metadata": {},
     "output_type": "execute_result"
    }
   ],
   "source": [
    "# initial setting\n",
    "d = 2 # dimension\n",
    "eta = 3 # level\n",
    "input_bd = [[0,1]]*d # None\n",
    "design_class = HyperbolicCrossDesign\n",
    "dyadic_sort = True\n",
    "indices_sort = True\n",
    "\n",
    "# generate sparse grid design\n",
    "sg = SparseGridDesign(d, eta, input_bd=input_bd, design_class=design_class).gen_sg(dyadic_sort=dyadic_sort, indices_sort=indices_sort)\n",
    "sg.pts_set"
   ]
  },
  {
   "cell_type": "code",
   "execution_count": 40,
   "metadata": {},
   "outputs": [
    {
     "data": {
      "text/plain": [
       "tensor([[ 1.2578,  0.0000, -0.4846,  0.0000,  0.0000],\n",
       "        [ 0.0000,  1.2578, -0.4846,  0.0000,  0.0000],\n",
       "        [-0.7629, -0.7629,  1.5095, -0.7629, -0.7629],\n",
       "        [ 0.0000,  0.0000, -0.4846,  1.2578,  0.0000],\n",
       "        [ 0.0000,  0.0000, -0.4846,  0.0000,  1.2578]])"
      ]
     },
     "execution_count": 40,
     "metadata": {},
     "output_type": "execute_result"
    }
   ],
   "source": [
    "tensor_markov_kernel = LaplaceProductKernel(lengthscale=1.)\n",
    "Rinv = tmk_chol_inv(sparse_grid_design=sg, \n",
    "                    tensor_markov_kernel=tensor_markov_kernel, \n",
    "                    upper = True)\n",
    "Rinv.to_dense()"
   ]
  },
  {
   "cell_type": "code",
   "execution_count": 47,
   "metadata": {},
   "outputs": [
    {
     "name": "stdout",
     "output_type": "stream",
     "text": [
      "tensor([[ 1.0000e+00, -7.6287e-01, -9.7955e-01, -9.3188e-08, -9.3188e-08],\n",
      "        [ 0.0000e+00,  1.2578e+00, -9.7955e-01, -1.5307e-07, -1.5307e-07],\n",
      "        [ 0.0000e+00,  0.0000e+00,  2.0206e+00, -1.2416e+00, -1.2416e+00],\n",
      "        [ 0.0000e+00,  0.0000e+00,  0.0000e+00,  1.5942e+00,  0.0000e+00],\n",
      "        [ 0.0000e+00,  0.0000e+00,  0.0000e+00,  0.0000e+00,  1.5942e+00]])\n"
     ]
    }
   ],
   "source": [
    "#ker_input = torch.tensor([[0.5,0.5],[0.5,0.25],[0.5,0.75],[0.25,0.5],[0.75,0.5]])\n",
    "ker_input = sg.pts_set\n",
    "K_true = tensor_markov_kernel(ker_input, ker_input)\n",
    "Kinv_true = torch.linalg.inv(K_true)\n",
    "# print(K_true)\n",
    "# print(Kinv_true)\n",
    "\n",
    "R_true = torch.cholesky(K_true, upper=True)\n",
    "Rinv_true = torch.linalg.inv(R_true)\n",
    "print(Rinv_true)"
   ]
  },
  {
   "cell_type": "code",
   "execution_count": null,
   "metadata": {},
   "outputs": [],
   "source": []
  }
 ],
 "metadata": {
  "kernelspec": {
   "display_name": "env_sparse-dgp",
   "language": "python",
   "name": "python3"
  },
  "language_info": {
   "codemirror_mode": {
    "name": "ipython",
    "version": 3
   },
   "file_extension": ".py",
   "mimetype": "text/x-python",
   "name": "python",
   "nbconvert_exporter": "python",
   "pygments_lexer": "ipython3",
   "version": "3.9.18"
  }
 },
 "nbformat": 4,
 "nbformat_minor": 2
}
