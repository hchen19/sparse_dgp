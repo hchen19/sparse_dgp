{
 "cells": [
  {
   "cell_type": "code",
   "execution_count": 1,
   "metadata": {},
   "outputs": [],
   "source": [
    "# add to \"../sparse_dgp\" sys.path\n",
    "import os\n",
    "import sys\n",
    "current = os.path.dirname(os.path.realpath(\"__file__\"))\n",
    "parent = os.path.dirname(current)\n",
    "sys.path.append(parent)\n",
    "\n",
    "import torch\n",
    "from dtmgp.utils.sparse_activation.design_class import HyperbolicCrossDesign\n",
    "from dtmgp.utils.sparse_activation.sparse_grid import SparseGridDesign\n",
    "from dtmgp.kernels.laplace_kernel import LaplaceProductKernel\n",
    "from dtmgp.utils.operators.chol_inv import mk_chol_inv, tmk_chol_inv"
   ]
  },
  {
   "cell_type": "markdown",
   "metadata": {},
   "source": [
    "# Cholesky inverse in one dimension"
   ]
  },
  {
   "cell_type": "code",
   "execution_count": 2,
   "metadata": {},
   "outputs": [
    {
     "name": "stdout",
     "output_type": "stream",
     "text": [
      "tensor([0.5000, 0.2500, 0.7500, 0.1250, 0.3750, 0.6250, 0.8750])\n",
      "tensor([  -inf,   -inf, 0.5000,   -inf, 0.2500, 0.5000, 0.7500])\n",
      "tensor([   inf, 0.5000,    inf, 0.2500, 0.5000, 0.7500,    inf])\n",
      "tensor([3, 1, 5, 0, 2, 4, 6])\n"
     ]
    }
   ],
   "source": [
    "design_fun = HyperbolicCrossDesign(dyadic_sort=True, return_neighbors=True)\n",
    "deg = 3\n",
    "input_bd = [0,1]\n",
    "\n",
    "dyadic_design = design_fun(deg=deg, input_bd=input_bd)\n",
    "print(dyadic_design.points)\n",
    "print(dyadic_design.lefts)\n",
    "print(dyadic_design.rights)\n",
    "print(dyadic_design.indices_sort)\n",
    "\n",
    "markov_kernel = LaplaceProductKernel(lengthscale=1.)\n",
    "Rinv = mk_chol_inv(dyadic_design=dyadic_design, markov_kernel=markov_kernel, upper=True)"
   ]
  },
  {
   "cell_type": "code",
   "execution_count": 3,
   "metadata": {},
   "outputs": [
    {
     "name": "stdout",
     "output_type": "stream",
     "text": [
      "tensor([[ 1.0000, -1.2416, -1.2416,  0.0000, -1.4069],\n",
      "        [ 0.0000,  1.5942,  0.0000, -1.8764, -1.4069],\n",
      "        [ 0.0000,  0.0000,  1.5942,  0.0000,  0.0000],\n",
      "        [ 0.0000,  0.0000,  0.0000,  2.1262,  0.0000],\n",
      "        [ 0.0000,  0.0000,  0.0000,  0.0000,  2.8358],\n",
      "        [ 0.0000,  0.0000,  0.0000,  0.0000,  0.0000],\n",
      "        [ 0.0000,  0.0000,  0.0000,  0.0000,  0.0000]])\n"
     ]
    }
   ],
   "source": [
    "Rinv_dense = Rinv.to_dense()\n",
    "print(Rinv_dense[:, :5])"
   ]
  },
  {
   "cell_type": "code",
   "execution_count": 4,
   "metadata": {},
   "outputs": [
    {
     "name": "stdout",
     "output_type": "stream",
     "text": [
      "tensor([[ 1.0000e+00, -1.2416e+00, -1.2416e+00, -1.6644e-07, -1.4069e+00],\n",
      "        [ 0.0000e+00,  1.5942e+00,  0.0000e+00, -1.8764e+00, -1.4069e+00],\n",
      "        [ 0.0000e+00,  0.0000e+00,  1.5942e+00,  0.0000e+00,  0.0000e+00],\n",
      "        [ 0.0000e+00,  0.0000e+00,  0.0000e+00,  2.1262e+00, -7.6413e-07],\n",
      "        [ 0.0000e+00,  0.0000e+00,  0.0000e+00,  0.0000e+00,  2.8358e+00],\n",
      "        [ 0.0000e+00,  0.0000e+00,  0.0000e+00,  0.0000e+00,  0.0000e+00],\n",
      "        [ 0.0000e+00,  0.0000e+00,  0.0000e+00,  0.0000e+00,  0.0000e+00]])\n"
     ]
    }
   ],
   "source": [
    "ker_input = dyadic_design.points\n",
    "K_true = markov_kernel(ker_input, ker_input)\n",
    "\n",
    "R_true = torch.linalg.cholesky(K_true, upper=True)\n",
    "Rinv_true = torch.linalg.inv(R_true)\n",
    "print(Rinv_true[:,:5])"
   ]
  },
  {
   "cell_type": "code",
   "execution_count": 5,
   "metadata": {},
   "outputs": [
    {
     "name": "stdout",
     "output_type": "stream",
     "text": [
      "False\n",
      "tensor(2.5567e-06)\n"
     ]
    }
   ],
   "source": [
    "print(torch.allclose(Rinv_dense, Rinv_true))\n",
    "print((Rinv_dense-Rinv_true).norm())"
   ]
  },
  {
   "cell_type": "code",
   "execution_count": 6,
   "metadata": {},
   "outputs": [
    {
     "name": "stdout",
     "output_type": "stream",
     "text": [
      "tensor([[ 8.0416e+00,  2.8354e-07, -2.8235e-07, -5.7131e-07, -3.9896e+00],\n",
      "        [ 1.8789e-07,  8.0416e+00,  2.2220e-06, -3.9896e+00, -3.9896e+00],\n",
      "        [ 5.9970e-15,  2.2220e-06,  8.0416e+00, -1.4046e-06, -1.4596e-06],\n",
      "        [-4.8307e-07, -3.9896e+00, -1.4046e-06,  4.5208e+00, -4.2048e-07],\n",
      "        [-3.9896e+00, -3.9896e+00, -1.4596e-06, -2.7775e-07,  8.0416e+00]])\n",
      "tensor([[ 8.0416e+00, -3.5287e-07, -3.5287e-07,  0.0000e+00, -3.9896e+00],\n",
      "        [-3.5287e-07,  8.0416e+00,  0.0000e+00, -3.9896e+00, -3.9896e+00],\n",
      "        [-3.5287e-07,  0.0000e+00,  8.0416e+00,  0.0000e+00,  0.0000e+00],\n",
      "        [ 0.0000e+00, -3.9896e+00,  0.0000e+00,  4.5208e+00,  0.0000e+00],\n",
      "        [-3.9896e+00, -3.9896e+00,  0.0000e+00,  0.0000e+00,  8.0416e+00]])\n"
     ]
    }
   ],
   "source": [
    "Kinv_true = torch.linalg.inv(K_true)\n",
    "print(Kinv_true[:5,:5])\n",
    "Kinv_sp = Rinv_dense @ Rinv_dense.T\n",
    "print(Kinv_sp[:5,:5])"
   ]
  },
  {
   "cell_type": "markdown",
   "metadata": {},
   "source": [
    "# Cholesky inverse for sparse grids"
   ]
  },
  {
   "cell_type": "code",
   "execution_count": 7,
   "metadata": {},
   "outputs": [
    {
     "data": {
      "text/plain": [
       "tensor([[0.5000, 0.5000],\n",
       "        [0.5000, 0.2500],\n",
       "        [0.5000, 0.7500],\n",
       "        [0.2500, 0.5000],\n",
       "        [0.7500, 0.5000]])"
      ]
     },
     "execution_count": 7,
     "metadata": {},
     "output_type": "execute_result"
    }
   ],
   "source": [
    "# initial setting\n",
    "d = 2 # dimension\n",
    "eta = 3 # level\n",
    "input_bd = [[0,1]]*d # None\n",
    "design_class = HyperbolicCrossDesign\n",
    "dyadic_sort = True\n",
    "indices_sort = True\n",
    "\n",
    "# generate sparse grid design\n",
    "sg = SparseGridDesign(d, eta, input_bd=input_bd, design_class=design_class).gen_sg(dyadic_sort=True, return_neighbors=True)\n",
    "sg.pts_set"
   ]
  },
  {
   "cell_type": "code",
   "execution_count": 8,
   "metadata": {},
   "outputs": [
    {
     "name": "stdout",
     "output_type": "stream",
     "text": [
      "tensor([[ 1.0000, -1.2416, -1.2416, -1.2416, -1.2416],\n",
      "        [ 0.0000,  1.5942,  0.0000,  0.0000,  0.0000],\n",
      "        [ 0.0000,  0.0000,  1.5942,  0.0000,  0.0000],\n",
      "        [ 0.0000,  0.0000,  0.0000,  1.5942,  0.0000],\n",
      "        [ 0.0000,  0.0000,  0.0000,  0.0000,  1.5942]])\n"
     ]
    }
   ],
   "source": [
    "tensor_markov_kernel = LaplaceProductKernel(lengthscale=1.)\n",
    "Rinv = tmk_chol_inv(sparse_grid_design=sg, \n",
    "                    tensor_markov_kernel=tensor_markov_kernel, \n",
    "                    upper = True)\n",
    "Rinv_dense = Rinv.to_dense()\n",
    "print(Rinv_dense)"
   ]
  },
  {
   "cell_type": "code",
   "execution_count": 9,
   "metadata": {},
   "outputs": [
    {
     "name": "stdout",
     "output_type": "stream",
     "text": [
      "tensor([[ 1.0000, -1.2416, -1.2416, -1.2416, -1.2416],\n",
      "        [ 0.0000,  1.5942,  0.0000,  0.0000,  0.0000],\n",
      "        [ 0.0000,  0.0000,  1.5942,  0.0000,  0.0000],\n",
      "        [ 0.0000,  0.0000,  0.0000,  1.5942,  0.0000],\n",
      "        [ 0.0000,  0.0000,  0.0000,  0.0000,  1.5942]])\n"
     ]
    }
   ],
   "source": [
    "ker_input = sg.pts_set\n",
    "K_true = tensor_markov_kernel(ker_input, ker_input)\n",
    "# print(K_true)\n",
    "\n",
    "R_true = torch.linalg.cholesky(K_true, upper=True)\n",
    "Rinv_true = torch.linalg.inv(R_true)\n",
    "print(Rinv_true)"
   ]
  },
  {
   "cell_type": "code",
   "execution_count": 10,
   "metadata": {},
   "outputs": [
    {
     "name": "stdout",
     "output_type": "stream",
     "text": [
      "tensor([[ 7.1660e+00, -1.9793e+00, -1.9793e+00, -1.9793e+00, -1.9793e+00],\n",
      "        [-1.9793e+00,  2.5415e+00, -1.8029e-08, -1.8029e-08, -1.8029e-08],\n",
      "        [-1.9793e+00, -1.8029e-08,  2.5415e+00, -1.8029e-08, -1.8029e-08],\n",
      "        [-1.9793e+00, -1.8029e-08, -1.8029e-08,  2.5415e+00, -1.8029e-08],\n",
      "        [-1.9793e+00, -1.8029e-08, -1.8029e-08, -1.8029e-08,  2.5415e+00]])\n",
      "tensor([[ 7.1660, -1.9793, -1.9793, -1.9793, -1.9793],\n",
      "        [-1.9793,  2.5415,  0.0000,  0.0000,  0.0000],\n",
      "        [-1.9793,  0.0000,  2.5415,  0.0000,  0.0000],\n",
      "        [-1.9793,  0.0000,  0.0000,  2.5415,  0.0000],\n",
      "        [-1.9793,  0.0000,  0.0000,  0.0000,  2.5415]])\n"
     ]
    }
   ],
   "source": [
    "Kinv_true = torch.linalg.inv(K_true)\n",
    "print(Kinv_true[:5,:5])\n",
    "\n",
    "Kinv_sp = Rinv_dense @ Rinv_dense.T\n",
    "print(Kinv_sp[:5,:5])"
   ]
  },
  {
   "cell_type": "code",
   "execution_count": null,
   "metadata": {},
   "outputs": [],
   "source": []
  }
 ],
 "metadata": {
  "kernelspec": {
   "display_name": "env_sparse-dgp",
   "language": "python",
   "name": "python3"
  },
  "language_info": {
   "codemirror_mode": {
    "name": "ipython",
    "version": 3
   },
   "file_extension": ".py",
   "mimetype": "text/x-python",
   "name": "python",
   "nbconvert_exporter": "python",
   "pygments_lexer": "ipython3",
   "version": "3.9.18"
  }
 },
 "nbformat": 4,
 "nbformat_minor": 2
}
