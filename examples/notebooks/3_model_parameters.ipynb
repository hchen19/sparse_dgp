{
 "cells": [
  {
   "cell_type": "code",
   "execution_count": 9,
   "metadata": {},
   "source": [
    "import os\n",
    "import sys\n",
    "# current = os.path.dirname(os.path.realpath(\"__file__\"))\n",
    "# parent = os.path.dirname(current)\n",
    "# sys.path.append(parent)\n",
    "from pathlib import Path # if you haven't already done so\n",
    "file = Path(os.path.dirname(os.path.abspath(\"__file__\"))).resolve()\n",
    "parent, root = file.parent, file.parents[1]\n",
    "sys.path.append(str(root))\n",
    "\n",
    "import torch\n",
    "from dtmgp.models import SCNN, DtmgpAdditive, DtmgpSparsegrid\n",
    "from dtmgp.utils.sparse_activation.design_class import HyperbolicCrossDesign\n",
    "from dtmgp.kernels.laplace_kernel import LaplaceProductKernel"
   ],
   "outputs": []
  },
  {
   "cell_type": "code",
   "execution_count": 10,
   "metadata": {},
   "source": [
    "torch.manual_seed(10)  # To reproduce results freeze a seed\n",
    "\n",
    "# Set up the compute device: CPU or Cuda, if you have multiple GPUs, you can choose one using <cuda:0>\n",
    "device = (\n",
    "    \"cuda\"\n",
    "    if torch.cuda.is_available()\n",
    "    else \"mps\"\n",
    "    if torch.backends.mps.is_available()\n",
    "    else \"cpu\"\n",
    ")\n",
    "print(f\"Using {device} device\")"
   ],
   "outputs": []
  },
  {
   "cell_type": "code",
   "execution_count": 11,
   "metadata": {},
   "source": [
    "# A function to count the number of parameters of a network\n",
    "def parameters(model):\n",
    "    all_parameters=list(model.parameters())\n",
    "    layer_parameters=[len(i) for i in all_parameters] \n",
    "    print(layer_parameters) \n",
    "\n",
    "    # we have layer weights, followed by biases\n",
    "    # sum up list \n",
    "    print(\"Total number of parameters in the network\",sum(layer_parameters))\n",
    "    return sum(layer_parameters)"
   ],
   "outputs": []
  },
  {
   "cell_type": "code",
   "execution_count": 12,
   "metadata": {},
   "source": [
    "scnn = SCNN().to(device)\n",
    "parameters(scnn)\n",
    "\n",
    "addmodel = DtmgpAdditive(input_dim=784,\n",
    "                              output_dim=10,\n",
    "                              design_class=HyperbolicCrossDesign,\n",
    "                              kernel=LaplaceProductKernel(1.)).to(device)\n",
    "parameters(addmodel)\n",
    "\n",
    "sgmodel = DtmgpSparsegrid(input_dim=784,\n",
    "                          output_dim=10,\n",
    "                          design_class=HyperbolicCrossDesign,\n",
    "                          kernel=LaplaceProductKernel(1.)).to(device)\n",
    "parameters(sgmodel)"
   ],
   "outputs": []
  }
 ],
 "metadata": {
  "kernelspec": {
   "display_name": "bnn",
   "language": "python",
   "name": "python3"
  },
  "language_info": {
   "codemirror_mode": {
    "name": "ipython",
    "version": 3
   },
   "file_extension": ".py",
   "mimetype": "text/x-python",
   "name": "python",
   "nbconvert_exporter": "python",
   "pygments_lexer": "ipython3",
   "version": "3.9.18"
  }
 },
 "nbformat": 4,
 "nbformat_minor": 2
}
